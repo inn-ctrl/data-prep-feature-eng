





import pandas as pd
import numpy as np

df = pd.read_csv('regression_exercise.csv')
df.head()


df.info()





num_feats = df.dtypes[df.dtypes != 'object'].index.tolist()


num_feats





for column in num_feats:
    sns.displot(df[column])





import seaborn as sns

sns.displot(df['Item_Visibility'])





# log transformation
df["Item_Visibility_log"] = df["Item_Visibility"].apply(np.log)
sns.displot(df["Item_Visibility_log"])


df["Item_Visibility_log"]








# Scaling
from sklearn.preprocessing import StandardScaler
# 
scaler = StandardScaler()
df_train_scaled = pd.DataFrame(scaler.fit_transform(df[num_feats]))


df_train_scaled





print(df_train_scaled.columns)


df_train_scaled.columns = num_feats
print(df_train_scaled.columns)



df_train_scaled





# lets map ORDINAL features as an example
df = df.replace({"Outlet_Size" : {np.nan: 0, "Small" : 1 , "Medium":2, "High":3}})



df





cat_feats = df.dtypes[df.dtypes == 'object'].index.tolist()
cat_feats.remove("Item_Identifier")
df_dummy = pd.get_dummies(df[cat_feats])



df_dummy






