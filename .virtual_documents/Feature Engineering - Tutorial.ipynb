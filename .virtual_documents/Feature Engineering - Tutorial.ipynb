





import pandas as pd
import numpy as np
import matplotlib.pyplot as plt
import seaborn as sns

df = pd.read_csv('house-prices.csv')
df.head()





df['Number_Rooms'] = df['Bedrooms'] + df['Bathrooms']


f, ax = plt.subplots(figsize=(9, 6))
# seaborn's regression plot
sns.regplot(x=(df['Number_Rooms']), y=df['Price'], data=df, order=1);









categories = df.dtypes[df.dtypes == 'object'].index.tolist()
df_dummy = pd.get_dummies(df[categories])
df = pd.concat([df, df_dummy], axis=1)
df_final = df.drop(columns=categories)


df_final


f, ax = plt.subplots(figsize=(9, 6))
fig = sns.boxplot(x='Brick_Yes', y="Price", data=df_final)
fig.axis(ymin=0, ymax=300000);






#Load Data
df_final.to_csv('df_final.csv')



